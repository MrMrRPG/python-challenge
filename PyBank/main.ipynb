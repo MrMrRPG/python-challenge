{
 "cells": [
  {
   "cell_type": "code",
   "execution_count": 86,
   "metadata": {},
   "outputs": [],
   "source": [
    "#imports\n",
    "import os\n",
    "import csv\n",
    "import pandas as pd\n",
    "import numpy as np"
   ]
  },
  {
   "cell_type": "code",
   "execution_count": 87,
   "metadata": {},
   "outputs": [],
   "source": [
    "# * In this challenge, you are tasked with creating a Python script for\n",
    "# analyzing the financial records of your company. You will give a set of\n",
    "# financial data called [budget_data.csv](PyBank/Resources/budget_data.csv).\n",
    "# The dataset is composed of two columns: `Date` and `Profit/Losses`.\n",
    "# (Thankfully, your company has rather lax standards for accounting so the\n",
    "# records are simple.) * Your task is to create a Python script that analyzes\n",
    "# the records to calculate each of the following:\n",
    "#   * The total number of months included in the dataset\n",
    "#   * The net total amount of \"Profit/Losses\" over the entire period\n",
    "#   * The average of the changes in \"Profit/Losses\" over the entire period\n",
    "#   * The greatest increase in profits (date and amount) over the entire period\n",
    "#   * The greatest decrease in losses (date and amount) over the entire period\n",
    "# * As an example, your analysis should look similar to the one below:\n",
    "#   ```text\n",
    "#   Financial Analysis\n",
    "#   ----------------------------\n",
    "#   Total Months: 86\n",
    "#   Total: $38382578\n",
    "#   Average  Change: $-2315.12\n",
    "#   Greatest Increase in Profits: Feb-2012 ($1926159)\n",
    "#   Greatest Decrease in Profits: Sep-2013 ($-2196167)\n",
    "#   ```\n",
    "# * In addition, your final script should both print the analysis to the\n",
    "\t# terminal and export a text file with the results.\n",
    "#"
   ]
  },
  {
   "cell_type": "code",
   "execution_count": 88,
   "metadata": {},
   "outputs": [],
   "source": [
    "#set directory\n",
    "cwd = os.getcwd()\n",
    "csvPath = os.path.join(cwd, 'Resources', 'budget_data.csv')\n",
    "df = pd.read_csv(csvPath)"
   ]
  },
  {
   "cell_type": "code",
   "execution_count": 171,
   "metadata": {},
   "outputs": [
    {
     "name": "stdout",
     "output_type": "stream",
     "text": [
      "---------------------------------\n",
      "FINANCIAL ANALYSIS\n",
      "---------------------------------\n",
      "Total Months: 86\n",
      "Total Profit/Losses: $38382578\n",
      "Average Change in Profit/Losses: $-2315.12\n",
      "Greatest Increase in Profits: Feb-2012 ($1170593)\n",
      "Greatest Increase in Profits: Sep-2013 ($-1196225)\n",
      "---------------------------------\n"
     ]
    }
   ],
   "source": [
    "# opening and reading CSV module\n",
    "with open(csvPath) as csvfile:\n",
    "\n",
    "    # set delimiter\n",
    "    csvreader = csv.reader(csvfile, delimiter = ',')\n",
    "    \n",
    "#   Total months in data\n",
    "    sum_month = len(df)\n",
    "    \n",
    "#   Converting 'Date' and Profit/Losses' column to a list\n",
    "    pl_list = df['Profit/Losses'].tolist()\n",
    "    day_list = df['Date'].tolist()\n",
    "    \n",
    "#   Sum of profit/losses\n",
    "    sum_pl = sum(pl_list)\n",
    "\n",
    "#   Average change in profit/losses\n",
    "    numpy_diff_list = np.diff(pl_list)\n",
    "    diff_list = numpy_diff_list.tolist() # Change diff_list from NumPy to a regular list\n",
    "    sum_diff_list = sum(diff_list)\n",
    "    avg_change_pl = float(sum_diff_list/(len(diff_list)))\n",
    "#     for i in pl_list:\n",
    "#         second_term = i+1\n",
    "#         first_term = i\n",
    "#         diff = second_term - first_term\n",
    "#         avg_change_pl = sum(diff)/(sum_month - 1)\n",
    "\n",
    "#   Greatest Increase in Profits:\n",
    "    maxincrease_diff = max(diff_list)\n",
    "    maxincrease_index = diff_list.index(maxincrease_diff)\n",
    "    maxincrease_raw = maxincrease_index + 1\n",
    "    maxincrease_day = day_list[maxincrease_raw]\n",
    "    maxincrease_pl = pl_list[maxincrease_raw]\n",
    "    \n",
    "    #   Greatest Decrase in Profits:\n",
    "    minincrease_diff = min(diff_list)\n",
    "    minincrease_index = diff_list.index(minincrease_diff)\n",
    "    minincrease_raw = minincrease_index + 1\n",
    "    minincrease_day = day_list[minincrease_raw]\n",
    "    minincrease_pl = pl_list[minincrease_raw]\n",
    "    \n",
    "    # Print information\n",
    "    print(f\"---------------------------------\")\n",
    "    print(f\"FINANCIAL ANALYSIS\")\n",
    "    print(f\"---------------------------------\")\n",
    "    print(f\"Total Months: {round(sum_month, 2)}\")\n",
    "    print(f\"Total Profit/Losses: ${sum_pl}\")\n",
    "    print(f\"Average Change in Profit/Losses: ${round(avg_change_pl, 2)}\")\n",
    "    print(f\"Greatest Increase in Profits: {maxincrease_day} (${maxincrease_pl})\")\n",
    "    print(f\"Greatest Increase in Profits: {minincrease_day} (${minincrease_pl})\")\n",
    "    print(f\"---------------------------------\")"
   ]
  },
  {
   "cell_type": "code",
   "execution_count": null,
   "metadata": {},
   "outputs": [],
   "source": []
  },
  {
   "cell_type": "code",
   "execution_count": null,
   "metadata": {},
   "outputs": [],
   "source": []
  },
  {
   "cell_type": "code",
   "execution_count": null,
   "metadata": {},
   "outputs": [],
   "source": []
  },
  {
   "cell_type": "code",
   "execution_count": null,
   "metadata": {},
   "outputs": [],
   "source": []
  },
  {
   "cell_type": "code",
   "execution_count": null,
   "metadata": {},
   "outputs": [],
   "source": []
  }
 ],
 "metadata": {
  "kernelspec": {
   "display_name": "Python 3",
   "language": "python",
   "name": "python3"
  },
  "language_info": {
   "codemirror_mode": {
    "name": "ipython",
    "version": 3
   },
   "file_extension": ".py",
   "mimetype": "text/x-python",
   "name": "python",
   "nbconvert_exporter": "python",
   "pygments_lexer": "ipython3",
   "version": "3.8.5"
  }
 },
 "nbformat": 4,
 "nbformat_minor": 4
}
