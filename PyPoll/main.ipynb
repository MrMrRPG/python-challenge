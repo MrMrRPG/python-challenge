{
 "cells": [
  {
   "cell_type": "code",
   "execution_count": 1,
   "metadata": {},
   "outputs": [],
   "source": [
    "#imports\n",
    "import os\n",
    "import csv\n",
    "import pandas as pd\n",
    "import numpy as np"
   ]
  },
  {
   "cell_type": "code",
   "execution_count": 2,
   "metadata": {},
   "outputs": [],
   "source": [
    "# * In this challenge, you are tasked with helping a small, rural town modernize\n",
    "# its vote counting process.\n",
    "# * You will be give a set of poll data called\n",
    "# [election_data.csv](PyPoll/Resources/election_data.csv). The dataset is\n",
    "# composed of three columns: `Voter ID`, `County`, and `Candidate`. Your task is\n",
    "# to create a Python script that analyzes the votes and calculates each of the\n",
    "# following: * The total number of votes cast\n",
    "#   * A complete list of candidates who received votes\n",
    "#   * The percentage of votes each candidate won\n",
    "#   * The total number of votes each candidate won\n",
    "#   * The winner of the election based on popular vote.\n",
    "# * As an example, your analysis should look similar to the one below:\n",
    "#   ```text\n",
    "#   Election Results\n",
    "#   -------------------------\n",
    "#   Total Votes: 3521001\n",
    "#   -------------------------\n",
    "#   Khan: 63.000% (2218231)\n",
    "#   Correy: 20.000% (704200)\n",
    "#   Li: 14.000% (492940)\n",
    "#   O'Tooley: 3.000% (105630)\n",
    "#   -------------------------\n",
    "#   Winner: Khan\n",
    "#   -------------------------\n",
    "#   ```\n",
    "# * In addition, your final script should both print the analysis to the\n",
    "# terminal and export a text file with the results.\n"
   ]
  },
  {
   "cell_type": "code",
   "execution_count": 5,
   "metadata": {},
   "outputs": [],
   "source": [
    "#set directory\n",
    "cwd = os.getcwd()\n",
    "csvPath = os.path.join(cwd, 'Resources', 'election_data.csv')\n",
    "df = pd.read_csv(csvPath)"
   ]
  },
  {
   "cell_type": "code",
   "execution_count": 6,
   "metadata": {},
   "outputs": [
    {
     "name": "stdout",
     "output_type": "stream",
     "text": [
      "---------------------------------\n",
      "ELECTION RESULTS\n",
      "---------------------------------\n",
      "Total Votes: 3521001\n",
      "---------------------------------\n",
      "\n",
      "\n",
      "\n",
      "\n",
      "---------------------------------\n",
      "Winner: \n",
      "---------------------------------\n"
     ]
    }
   ],
   "source": [
    "# opening and reading CSV module\n",
    "with open(csvPath) as csvfile:\n",
    "\n",
    "    # set delimiter\n",
    "    csvreader = csv.reader(csvfile, delimiter = ',')\n",
    "\n",
    "    #Converting headers of column to list\n",
    "    pl_list = df['Voter ID'].tolist()\n",
    "    county_list = df['County'].tolist()\n",
    "    candidate_list = df['Candidate'].tolist()\n",
    "\n",
    "    \n",
    "    #Total votes in data\n",
    "    sum_votes = len(df)\n",
    "\n",
    "    # Adding all occurance of candidates\n",
    "\n",
    "def summary():\n",
    "    # Print information\n",
    "    print(f\"---------------------------------\")\n",
    "    print(f\"ELECTION RESULTS\")\n",
    "    print(f\"---------------------------------\")\n",
    "    print(f\"Total Votes: {sum_votes}\")\n",
    "    print(f\"---------------------------------\")\n",
    "    print(f\"\")\n",
    "    print(f\"\")\n",
    "    print(f\"\")\n",
    "    print(f\"\")\n",
    "    print(f\"---------------------------------\")\n",
    "    print(f\"Winner: \")\n",
    "    print(f\"---------------------------------\")\n",
    "\n",
    "summary()\n"
   ]
  },
  {
   "cell_type": "code",
   "execution_count": 4,
   "metadata": {},
   "outputs": [],
   "source": [
    "#output to .txt file\n",
    "# def external(): \n",
    "#     with open('Financial_Analysis.txt', 'w') as f:\n",
    "#         print(f\"---------------------------------\", file = f)\n",
    "#         print(f\"FINANCIAL ANALYSIS\", file = f)\n",
    "#         print(f\"---------------------------------\", file = f)\n",
    "#         print(f\"Total Months: {sum_month}\", file = f)\n",
    "#         print(f\"Total Profit/Losses: ${sum_pl}\", file = f)\n",
    "#         print(f\"Average Change in Profit/Losses: ${round(avg_change_pl, 2)}\", file = f)\n",
    "#         print(f\"Greatest Increase in Profits: {maxincrease_day} (${maxincrease_pl})\", file = f)\n",
    "#         print(f\"Greatest Decrease in Profits: {minincrease_day} (${minincrease_pl})\", file = f)\n",
    "#         print(f\"---------------------------------\", file = f)\n",
    "# external()"
   ]
  },
  {
   "cell_type": "code",
   "execution_count": 8,
   "metadata": {},
   "outputs": [
    {
     "data": {
      "text/plain": [
       "list"
      ]
     },
     "execution_count": 8,
     "metadata": {},
     "output_type": "execute_result"
    }
   ],
   "source": [
    "    type(county_list)"
   ]
  },
  {
   "cell_type": "code",
   "execution_count": 9,
   "metadata": {},
   "outputs": [
    {
     "data": {
      "text/plain": [
       "list"
      ]
     },
     "execution_count": 9,
     "metadata": {},
     "output_type": "execute_result"
    }
   ],
   "source": [
    "\n",
    "    type(candidate_list)"
   ]
  },
  {
   "cell_type": "code",
   "execution_count": null,
   "metadata": {},
   "outputs": [],
   "source": []
  }
 ],
 "metadata": {
  "kernelspec": {
   "display_name": "Python 3",
   "language": "python",
   "name": "python3"
  },
  "language_info": {
   "codemirror_mode": {
    "name": "ipython",
    "version": 3
   },
   "file_extension": ".py",
   "mimetype": "text/x-python",
   "name": "python",
   "nbconvert_exporter": "python",
   "pygments_lexer": "ipython3",
   "version": "3.8.5"
  }
 },
 "nbformat": 4,
 "nbformat_minor": 4
}
