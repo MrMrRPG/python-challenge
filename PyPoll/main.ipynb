{
 "cells": [
  {
   "cell_type": "code",
   "execution_count": 1,
   "metadata": {},
   "outputs": [],
   "source": [
    "#imports\n",
    "import os\n",
    "import csv\n",
    "import pandas as pd\n",
    "import numpy as np"
   ]
  },
  {
   "cell_type": "code",
   "execution_count": 2,
   "metadata": {},
   "outputs": [],
   "source": [
    "# * In this challenge, you are tasked with helping a small, rural town modernize\n",
    "# its vote counting process.\n",
    "# * You will be give a set of poll data called\n",
    "# [election_data.csv](PyPoll/Resources/election_data.csv). The dataset is\n",
    "# composed of three columns: `Voter ID`, `County`, and `Candidate`. Your task is\n",
    "# to create a Python script that analyzes the votes and calculates each of the\n",
    "# following: * The total number of votes cast\n",
    "#   * A complete list of candidates who received votes\n",
    "#   * The percentage of votes each candidate won\n",
    "#   * The total number of votes each candidate won\n",
    "#   * The winner of the election based on popular vote.\n",
    "# * As an example, your analysis should look similar to the one below:\n",
    "#   ```text\n",
    "#   Election Results\n",
    "#   -------------------------\n",
    "#   Total Votes: 3521001\n",
    "#   -------------------------\n",
    "#   Khan: 63.000% (2218231)\n",
    "#   Correy: 20.000% (704200)\n",
    "#   Li: 14.000% (492940)\n",
    "#   O'Tooley: 3.000% (105630)\n",
    "#   -------------------------\n",
    "#   Winner: Khan\n",
    "#   -------------------------\n",
    "#   ```\n",
    "# * In addition, your final script should both print the analysis to the\n",
    "# terminal and export a text file with the results.\n"
   ]
  },
  {
   "cell_type": "code",
   "execution_count": 5,
   "metadata": {},
   "outputs": [],
   "source": [
    "#set directory\n",
    "cwd = os.getcwd()\n",
    "csvPath = os.path.join(cwd, 'Resources', 'election_data.csv')\n",
    "df = pd.read_csv(csvPath)"
   ]
  },
  {
   "cell_type": "code",
   "execution_count": 22,
   "metadata": {},
   "outputs": [],
   "source": [
    "#Setting some variables\n",
    "candidates = []\n",
    "candidatevote = []"
   ]
  },
  {
   "cell_type": "code",
   "execution_count": 39,
   "metadata": {},
   "outputs": [
    {
     "ename": "TypeError",
     "evalue": "int() argument must be a string, a bytes-like object or a number, not 'list'",
     "output_type": "error",
     "traceback": [
      "\u001b[1;31m---------------------------------------------------------------------------\u001b[0m",
      "\u001b[1;31mTypeError\u001b[0m                                 Traceback (most recent call last)",
      "\u001b[1;32m<ipython-input-39-5f16b06b8695>\u001b[0m in \u001b[0;36m<module>\u001b[1;34m\u001b[0m\n\u001b[0;32m     25\u001b[0m \u001b[1;33m\u001b[0m\u001b[0m\n\u001b[0;32m     26\u001b[0m     \u001b[1;31m# Candidate Vote Percentage\u001b[0m\u001b[1;33m\u001b[0m\u001b[1;33m\u001b[0m\u001b[1;33m\u001b[0m\u001b[0m\n\u001b[1;32m---> 27\u001b[1;33m     \u001b[0mvote_ratio\u001b[0m \u001b[1;33m=\u001b[0m \u001b[0mint\u001b[0m\u001b[1;33m(\u001b[0m\u001b[0mcandidatevote\u001b[0m\u001b[1;33m)\u001b[0m\u001b[1;33m/\u001b[0m\u001b[0mint\u001b[0m\u001b[1;33m(\u001b[0m\u001b[0msum_votes\u001b[0m\u001b[1;33m)\u001b[0m\u001b[1;33m\u001b[0m\u001b[1;33m\u001b[0m\u001b[0m\n\u001b[0m\u001b[0;32m     28\u001b[0m \u001b[1;33m\u001b[0m\u001b[0m\n\u001b[0;32m     29\u001b[0m     \u001b[1;31m# Adding all occurance of candidates\u001b[0m\u001b[1;33m\u001b[0m\u001b[1;33m\u001b[0m\u001b[1;33m\u001b[0m\u001b[0m\n",
      "\u001b[1;31mTypeError\u001b[0m: int() argument must be a string, a bytes-like object or a number, not 'list'"
     ]
    }
   ],
   "source": [
    "# opening and reading CSV module\n",
    "with open(csvPath) as csvfile:\n",
    "\n",
    "    # set delimiter\n",
    "    csvreader = csv.reader(csvfile, delimiter = ',')\n",
    "\n",
    "    #Converting headers of column to list\n",
    "    pl_list = df['Voter ID'].tolist()\n",
    "    county_list = df['County'].tolist()\n",
    "    candidate_list = df['Candidate'].tolist()\n",
    "    \n",
    "    #Total votes in data\n",
    "    sum_votes = len(df)\n",
    "    \n",
    "    #Looping through each row\n",
    "    for row in csvreader:\n",
    "        name = row[2]\n",
    "        \n",
    "        if(name not in candidates):\n",
    "            candidates.append(name)\n",
    "            candidatevote.append(1)\n",
    "        else:\n",
    "            position = candidates.index(name)\n",
    "            candidatevote[position] += 1\n",
    "            \n",
    "    # Candidate Vote Percentage\n",
    "    vote_ratio = int(candidatevote)/int(sum_votes)\n",
    "\n",
    "    # Adding all occurance of candidates\n",
    "\n",
    "def summary():\n",
    "    # Print information\n",
    "    print(f\"---------------------------------\")\n",
    "    print(f\"ELECTION RESULTS\")\n",
    "    print(f\"---------------------------------\")\n",
    "    print(f\"Total Votes: {sum_votes}\")\n",
    "    print(f\"---------------------------------\")\n",
    "    print(f\"{candidates[1]}: {candidatevote[1]}\")\n",
    "    print(f\"{candidates[2]}: {candidatevote[2]}\")\n",
    "    print(f\"{candidates[3]}: {candidatevote[3]}\")\n",
    "    print(f\"{candidates[4]}: {candidatevote[4]}\")\n",
    "    print(f\"---------------------------------\")\n",
    "    print(f\"Winner: \")\n",
    "    print(f\"---------------------------------\")\n",
    "\n",
    "summary()\n"
   ]
  },
  {
   "cell_type": "code",
   "execution_count": 4,
   "metadata": {},
   "outputs": [],
   "source": [
    "#output to .txt file\n",
    "# def external(): \n",
    "#     with open('Financial_Analysis.txt', 'w') as f:\n",
    "#         print(f\"---------------------------------\", file = f)\n",
    "#         print(f\"FINANCIAL ANALYSIS\", file = f)\n",
    "#         print(f\"---------------------------------\", file = f)\n",
    "#         print(f\"Total Months: {sum_month}\", file = f)\n",
    "#         print(f\"Total Profit/Losses: ${sum_pl}\", file = f)\n",
    "#         print(f\"Average Change in Profit/Losses: ${round(avg_change_pl, 2)}\", file = f)\n",
    "#         print(f\"Greatest Increase in Profits: {maxincrease_day} (${maxincrease_pl})\", file = f)\n",
    "#         print(f\"Greatest Decrease in Profits: {minincrease_day} (${minincrease_pl})\", file = f)\n",
    "#         print(f\"---------------------------------\", file = f)\n",
    "# external()"
   ]
  },
  {
   "cell_type": "code",
   "execution_count": 37,
   "metadata": {},
   "outputs": [
    {
     "data": {
      "text/plain": [
       "list"
      ]
     },
     "execution_count": 37,
     "metadata": {},
     "output_type": "execute_result"
    }
   ],
   "source": [
    "type(candidates)"
   ]
  },
  {
   "cell_type": "code",
   "execution_count": 38,
   "metadata": {},
   "outputs": [
    {
     "data": {
      "text/plain": [
       "list"
      ]
     },
     "execution_count": 38,
     "metadata": {},
     "output_type": "execute_result"
    }
   ],
   "source": [
    "type(candidatevote)"
   ]
  },
  {
   "cell_type": "code",
   "execution_count": 28,
   "metadata": {},
   "outputs": [
    {
     "data": {
      "text/plain": [
       "<bound method NDFrame.head of          Voter ID County Candidate\n",
       "0        12864552  Marsh      Khan\n",
       "1        17444633  Marsh    Correy\n",
       "2        19330107  Marsh      Khan\n",
       "3        19865775  Queen      Khan\n",
       "4        11927875  Marsh      Khan\n",
       "...           ...    ...       ...\n",
       "3520996  18050509  Marsh      Khan\n",
       "3520997  13060332  Marsh      Khan\n",
       "3520998  16754708  Queen      Khan\n",
       "3520999  12083146  Queen      Khan\n",
       "3521000  14526187  Queen  O'Tooley\n",
       "\n",
       "[3521001 rows x 3 columns]>"
      ]
     },
     "execution_count": 28,
     "metadata": {},
     "output_type": "execute_result"
    }
   ],
   "source": []
  },
  {
   "cell_type": "code",
   "execution_count": null,
   "metadata": {},
   "outputs": [],
   "source": []
  }
 ],
 "metadata": {
  "kernelspec": {
   "display_name": "Python 3",
   "language": "python",
   "name": "python3"
  },
  "language_info": {
   "codemirror_mode": {
    "name": "ipython",
    "version": 3
   },
   "file_extension": ".py",
   "mimetype": "text/x-python",
   "name": "python",
   "nbconvert_exporter": "python",
   "pygments_lexer": "ipython3",
   "version": "3.8.5"
  }
 },
 "nbformat": 4,
 "nbformat_minor": 4
}
